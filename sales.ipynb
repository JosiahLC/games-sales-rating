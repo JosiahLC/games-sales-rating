{
  "nbformat": 4,
  "nbformat_minor": 0,
  "metadata": {
    "colab": {
      "name": "sales.ipynb",
      "provenance": [],
      "include_colab_link": true
    },
    "kernelspec": {
      "display_name": "Python 3",
      "language": "python",
      "name": "python3"
    },
    "language_info": {
      "codemirror_mode": {
        "name": "ipython",
        "version": 3
      },
      "file_extension": ".py",
      "mimetype": "text/x-python",
      "name": "python",
      "nbconvert_exporter": "python",
      "pygments_lexer": "ipython3",
      "version": "3.8.8"
    }
  },
  "cells": [
    {
      "cell_type": "markdown",
      "metadata": {
        "id": "view-in-github",
        "colab_type": "text"
      },
      "source": [
        "<a href=\"https://colab.research.google.com/github/JosiahLC/games-sales-rating/blob/main/sales.ipynb\" target=\"_parent\"><img src=\"https://colab.research.google.com/assets/colab-badge.svg\" alt=\"Open In Colab\"/></a>"
      ]
    },
    {
      "cell_type": "code",
      "metadata": {
        "id": "vPoaSutdCDFk"
      },
      "source": [
        "%%capture\n",
        "!pip install category_encoders==2.*\n",
        "!pip install shap\n",
        "!pip install pdpbox\n",
        "!pip install xgboost\n",
        "import numpy as np\n",
        "import pandas as pd\n",
        "\n",
        "from sklearn.linear_model import LogisticRegressionCV\n",
        "from sklearn.model_selection import train_test_split\n",
        "from sklearn.pipeline import make_pipeline\n",
        "from sklearn.preprocessing import StandardScaler\n",
        "from category_encoders import OneHotEncoder\n",
        "from sklearn.impute import SimpleImputer\n",
        "from sklearn.linear_model import LinearRegression, Ridge, RidgeCV\n",
        "from sklearn.metrics import mean_absolute_error, mean_squared_error, r2_score\n",
        "from sklearn.ensemble import RandomForestRegressor\n",
        "from pdpbox.pdp import pdp_isolate, pdp_plot, pdp_interact, pdp_interact_plot\n",
        "import shap\n",
        "from xgboost import XGBRegressor\n",
        "from matplotlib import pyplot as plt"
      ],
      "execution_count": 2,
      "outputs": []
    },
    {
      "cell_type": "code",
      "metadata": {
        "id": "4VVJYa9MCDFl"
      },
      "source": [
        "pd.options.display.max_rows = 200"
      ],
      "execution_count": 3,
      "outputs": []
    },
    {
      "cell_type": "code",
      "metadata": {
        "colab": {
          "base_uri": "https://localhost:8080/",
          "height": 1000
        },
        "id": "udHx5H8KCDFm",
        "outputId": "69a56ec2-66e0-4185-e6eb-5b106992dd96"
      },
      "source": [
        "\n",
        "df = pd.read_csv(r'vgsales.csv',parse_dates=['Year_of_Release'],index_col='Year_of_Release')\n",
        "df = df.sort_index(ascending=False)\n",
        "df.head(30)"
      ],
      "execution_count": 4,
      "outputs": [
        {
          "output_type": "execute_result",
          "data": {
            "text/html": [
              "<div>\n",
              "<style scoped>\n",
              "    .dataframe tbody tr th:only-of-type {\n",
              "        vertical-align: middle;\n",
              "    }\n",
              "\n",
              "    .dataframe tbody tr th {\n",
              "        vertical-align: top;\n",
              "    }\n",
              "\n",
              "    .dataframe thead th {\n",
              "        text-align: right;\n",
              "    }\n",
              "</style>\n",
              "<table border=\"1\" class=\"dataframe\">\n",
              "  <thead>\n",
              "    <tr style=\"text-align: right;\">\n",
              "      <th></th>\n",
              "      <th>Name</th>\n",
              "      <th>Platform</th>\n",
              "      <th>Genre</th>\n",
              "      <th>Publisher</th>\n",
              "      <th>NA_Sales</th>\n",
              "      <th>EU_Sales</th>\n",
              "      <th>JP_Sales</th>\n",
              "      <th>Other_Sales</th>\n",
              "      <th>Global_Sales</th>\n",
              "      <th>Critic_Score</th>\n",
              "      <th>Critic_Count</th>\n",
              "      <th>User_Score</th>\n",
              "      <th>User_Count</th>\n",
              "      <th>Developer</th>\n",
              "      <th>Rating</th>\n",
              "    </tr>\n",
              "    <tr>\n",
              "      <th>Year_of_Release</th>\n",
              "      <th></th>\n",
              "      <th></th>\n",
              "      <th></th>\n",
              "      <th></th>\n",
              "      <th></th>\n",
              "      <th></th>\n",
              "      <th></th>\n",
              "      <th></th>\n",
              "      <th></th>\n",
              "      <th></th>\n",
              "      <th></th>\n",
              "      <th></th>\n",
              "      <th></th>\n",
              "      <th></th>\n",
              "      <th></th>\n",
              "    </tr>\n",
              "  </thead>\n",
              "  <tbody>\n",
              "    <tr>\n",
              "      <th>2020-01-01</th>\n",
              "      <td>Imagine: Makeup Artist</td>\n",
              "      <td>DS</td>\n",
              "      <td>Simulation</td>\n",
              "      <td>Ubisoft</td>\n",
              "      <td>0.27</td>\n",
              "      <td>0.00</td>\n",
              "      <td>0.00</td>\n",
              "      <td>0.02</td>\n",
              "      <td>0.29</td>\n",
              "      <td>NaN</td>\n",
              "      <td>NaN</td>\n",
              "      <td>tbd</td>\n",
              "      <td>NaN</td>\n",
              "      <td>Ubisoft</td>\n",
              "      <td>E</td>\n",
              "    </tr>\n",
              "    <tr>\n",
              "      <th>2017-01-01</th>\n",
              "      <td>Phantasy Star Online 2 Episode 4: Deluxe Package</td>\n",
              "      <td>PS4</td>\n",
              "      <td>Role-Playing</td>\n",
              "      <td>Sega</td>\n",
              "      <td>0.00</td>\n",
              "      <td>0.00</td>\n",
              "      <td>0.04</td>\n",
              "      <td>0.00</td>\n",
              "      <td>0.04</td>\n",
              "      <td>NaN</td>\n",
              "      <td>NaN</td>\n",
              "      <td>NaN</td>\n",
              "      <td>NaN</td>\n",
              "      <td>NaN</td>\n",
              "      <td>NaN</td>\n",
              "    </tr>\n",
              "    <tr>\n",
              "      <th>2017-01-01</th>\n",
              "      <td>Brothers Conflict: Precious Baby</td>\n",
              "      <td>PSV</td>\n",
              "      <td>Action</td>\n",
              "      <td>Idea Factory</td>\n",
              "      <td>0.00</td>\n",
              "      <td>0.00</td>\n",
              "      <td>0.01</td>\n",
              "      <td>0.00</td>\n",
              "      <td>0.01</td>\n",
              "      <td>NaN</td>\n",
              "      <td>NaN</td>\n",
              "      <td>NaN</td>\n",
              "      <td>NaN</td>\n",
              "      <td>NaN</td>\n",
              "      <td>NaN</td>\n",
              "    </tr>\n",
              "    <tr>\n",
              "      <th>2017-01-01</th>\n",
              "      <td>Phantasy Star Online 2 Episode 4: Deluxe Package</td>\n",
              "      <td>PSV</td>\n",
              "      <td>Role-Playing</td>\n",
              "      <td>Sega</td>\n",
              "      <td>0.00</td>\n",
              "      <td>0.00</td>\n",
              "      <td>0.01</td>\n",
              "      <td>0.00</td>\n",
              "      <td>0.01</td>\n",
              "      <td>NaN</td>\n",
              "      <td>NaN</td>\n",
              "      <td>NaN</td>\n",
              "      <td>NaN</td>\n",
              "      <td>NaN</td>\n",
              "      <td>NaN</td>\n",
              "    </tr>\n",
              "    <tr>\n",
              "      <th>2016-01-01</th>\n",
              "      <td>Winning Post 8 2016</td>\n",
              "      <td>PSV</td>\n",
              "      <td>Simulation</td>\n",
              "      <td>Tecmo Koei</td>\n",
              "      <td>0.00</td>\n",
              "      <td>0.00</td>\n",
              "      <td>0.01</td>\n",
              "      <td>0.00</td>\n",
              "      <td>0.01</td>\n",
              "      <td>NaN</td>\n",
              "      <td>NaN</td>\n",
              "      <td>NaN</td>\n",
              "      <td>NaN</td>\n",
              "      <td>NaN</td>\n",
              "      <td>NaN</td>\n",
              "    </tr>\n",
              "    <tr>\n",
              "      <th>2016-01-01</th>\n",
              "      <td>The Technomancer</td>\n",
              "      <td>PC</td>\n",
              "      <td>Role-Playing</td>\n",
              "      <td>Focus Home Interactive</td>\n",
              "      <td>0.00</td>\n",
              "      <td>0.01</td>\n",
              "      <td>0.00</td>\n",
              "      <td>0.00</td>\n",
              "      <td>0.01</td>\n",
              "      <td>56.0</td>\n",
              "      <td>34.0</td>\n",
              "      <td>6.8</td>\n",
              "      <td>149.0</td>\n",
              "      <td>Spidersoft, Spiders</td>\n",
              "      <td>M</td>\n",
              "    </tr>\n",
              "    <tr>\n",
              "      <th>2016-01-01</th>\n",
              "      <td>Battlefield 1</td>\n",
              "      <td>PC</td>\n",
              "      <td>Shooter</td>\n",
              "      <td>Electronic Arts</td>\n",
              "      <td>0.11</td>\n",
              "      <td>0.24</td>\n",
              "      <td>0.00</td>\n",
              "      <td>0.03</td>\n",
              "      <td>0.38</td>\n",
              "      <td>88.0</td>\n",
              "      <td>54.0</td>\n",
              "      <td>7.6</td>\n",
              "      <td>1137.0</td>\n",
              "      <td>EA DICE</td>\n",
              "      <td>M</td>\n",
              "    </tr>\n",
              "    <tr>\n",
              "      <th>2016-01-01</th>\n",
              "      <td>NHL 17</td>\n",
              "      <td>XOne</td>\n",
              "      <td>Sports</td>\n",
              "      <td>Electronic Arts</td>\n",
              "      <td>0.20</td>\n",
              "      <td>0.01</td>\n",
              "      <td>0.00</td>\n",
              "      <td>0.03</td>\n",
              "      <td>0.24</td>\n",
              "      <td>77.0</td>\n",
              "      <td>23.0</td>\n",
              "      <td>4</td>\n",
              "      <td>38.0</td>\n",
              "      <td>EA Canada, EA Vancouver</td>\n",
              "      <td>E10+</td>\n",
              "    </tr>\n",
              "    <tr>\n",
              "      <th>2016-01-01</th>\n",
              "      <td>Madden NFL 17</td>\n",
              "      <td>X360</td>\n",
              "      <td>Sports</td>\n",
              "      <td>Electronic Arts</td>\n",
              "      <td>0.14</td>\n",
              "      <td>0.02</td>\n",
              "      <td>0.00</td>\n",
              "      <td>0.02</td>\n",
              "      <td>0.17</td>\n",
              "      <td>NaN</td>\n",
              "      <td>NaN</td>\n",
              "      <td>0.7</td>\n",
              "      <td>6.0</td>\n",
              "      <td>EA Sports</td>\n",
              "      <td>E</td>\n",
              "    </tr>\n",
              "    <tr>\n",
              "      <th>2016-01-01</th>\n",
              "      <td>Deus Ex: Mankind Divided</td>\n",
              "      <td>PS4</td>\n",
              "      <td>Role-Playing</td>\n",
              "      <td>Square Enix</td>\n",
              "      <td>0.11</td>\n",
              "      <td>0.21</td>\n",
              "      <td>0.00</td>\n",
              "      <td>0.06</td>\n",
              "      <td>0.38</td>\n",
              "      <td>84.0</td>\n",
              "      <td>59.0</td>\n",
              "      <td>7.6</td>\n",
              "      <td>511.0</td>\n",
              "      <td>Eidos Montreal</td>\n",
              "      <td>M</td>\n",
              "    </tr>\n",
              "    <tr>\n",
              "      <th>2016-01-01</th>\n",
              "      <td>Darksiders: Warmastered Edition</td>\n",
              "      <td>XOne</td>\n",
              "      <td>Action</td>\n",
              "      <td>Nordic Games</td>\n",
              "      <td>0.01</td>\n",
              "      <td>0.00</td>\n",
              "      <td>0.00</td>\n",
              "      <td>0.00</td>\n",
              "      <td>0.01</td>\n",
              "      <td>80.0</td>\n",
              "      <td>13.0</td>\n",
              "      <td>7.9</td>\n",
              "      <td>14.0</td>\n",
              "      <td>Nordic Games Publishing</td>\n",
              "      <td>M</td>\n",
              "    </tr>\n",
              "    <tr>\n",
              "      <th>2016-01-01</th>\n",
              "      <td>Dead Rising 2</td>\n",
              "      <td>PS4</td>\n",
              "      <td>Action</td>\n",
              "      <td>Capcom</td>\n",
              "      <td>0.01</td>\n",
              "      <td>0.00</td>\n",
              "      <td>0.01</td>\n",
              "      <td>0.00</td>\n",
              "      <td>0.03</td>\n",
              "      <td>82.0</td>\n",
              "      <td>4.0</td>\n",
              "      <td>6.6</td>\n",
              "      <td>8.0</td>\n",
              "      <td>Blue Castle Games</td>\n",
              "      <td>M</td>\n",
              "    </tr>\n",
              "    <tr>\n",
              "      <th>2016-01-01</th>\n",
              "      <td>Tom Clancy's The Division</td>\n",
              "      <td>XOne</td>\n",
              "      <td>Shooter</td>\n",
              "      <td>Ubisoft</td>\n",
              "      <td>1.29</td>\n",
              "      <td>0.68</td>\n",
              "      <td>0.00</td>\n",
              "      <td>0.20</td>\n",
              "      <td>2.16</td>\n",
              "      <td>80.0</td>\n",
              "      <td>33.0</td>\n",
              "      <td>6.9</td>\n",
              "      <td>614.0</td>\n",
              "      <td>Massive Entertainment</td>\n",
              "      <td>M</td>\n",
              "    </tr>\n",
              "    <tr>\n",
              "      <th>2016-01-01</th>\n",
              "      <td>Pro Evolution Soccer 2017</td>\n",
              "      <td>PS3</td>\n",
              "      <td>Sports</td>\n",
              "      <td>Konami Digital Entertainment</td>\n",
              "      <td>0.01</td>\n",
              "      <td>0.05</td>\n",
              "      <td>0.06</td>\n",
              "      <td>0.01</td>\n",
              "      <td>0.13</td>\n",
              "      <td>NaN</td>\n",
              "      <td>NaN</td>\n",
              "      <td>7.2</td>\n",
              "      <td>19.0</td>\n",
              "      <td>Konami</td>\n",
              "      <td>E</td>\n",
              "    </tr>\n",
              "    <tr>\n",
              "      <th>2016-01-01</th>\n",
              "      <td>Destiny: The Collection</td>\n",
              "      <td>PS4</td>\n",
              "      <td>Shooter</td>\n",
              "      <td>Activision</td>\n",
              "      <td>0.05</td>\n",
              "      <td>0.15</td>\n",
              "      <td>0.00</td>\n",
              "      <td>0.04</td>\n",
              "      <td>0.24</td>\n",
              "      <td>NaN</td>\n",
              "      <td>NaN</td>\n",
              "      <td>8.1</td>\n",
              "      <td>9.0</td>\n",
              "      <td>Bungie</td>\n",
              "      <td>T</td>\n",
              "    </tr>\n",
              "    <tr>\n",
              "      <th>2016-01-01</th>\n",
              "      <td>Far Cry: Primal</td>\n",
              "      <td>XOne</td>\n",
              "      <td>Action</td>\n",
              "      <td>Ubisoft</td>\n",
              "      <td>0.47</td>\n",
              "      <td>0.33</td>\n",
              "      <td>0.00</td>\n",
              "      <td>0.08</td>\n",
              "      <td>0.88</td>\n",
              "      <td>77.0</td>\n",
              "      <td>27.0</td>\n",
              "      <td>6.4</td>\n",
              "      <td>194.0</td>\n",
              "      <td>Ubisoft Montreal</td>\n",
              "      <td>M</td>\n",
              "    </tr>\n",
              "    <tr>\n",
              "      <th>2016-01-01</th>\n",
              "      <td>Rocksmith 2014 Edition Remastered</td>\n",
              "      <td>XOne</td>\n",
              "      <td>Misc</td>\n",
              "      <td>Ubisoft</td>\n",
              "      <td>0.01</td>\n",
              "      <td>0.00</td>\n",
              "      <td>0.00</td>\n",
              "      <td>0.00</td>\n",
              "      <td>0.01</td>\n",
              "      <td>NaN</td>\n",
              "      <td>NaN</td>\n",
              "      <td>tbd</td>\n",
              "      <td>NaN</td>\n",
              "      <td>Ubisoft</td>\n",
              "      <td>T</td>\n",
              "    </tr>\n",
              "    <tr>\n",
              "      <th>2016-01-01</th>\n",
              "      <td>Overwatch</td>\n",
              "      <td>PS4</td>\n",
              "      <td>Shooter</td>\n",
              "      <td>Activision</td>\n",
              "      <td>0.81</td>\n",
              "      <td>0.85</td>\n",
              "      <td>0.15</td>\n",
              "      <td>0.33</td>\n",
              "      <td>2.14</td>\n",
              "      <td>90.0</td>\n",
              "      <td>31.0</td>\n",
              "      <td>6.1</td>\n",
              "      <td>1358.0</td>\n",
              "      <td>Blizzard Entertainment</td>\n",
              "      <td>T</td>\n",
              "    </tr>\n",
              "    <tr>\n",
              "      <th>2016-01-01</th>\n",
              "      <td>Rocket League</td>\n",
              "      <td>XOne</td>\n",
              "      <td>Sports</td>\n",
              "      <td>505 Games</td>\n",
              "      <td>0.05</td>\n",
              "      <td>0.17</td>\n",
              "      <td>0.00</td>\n",
              "      <td>0.02</td>\n",
              "      <td>0.24</td>\n",
              "      <td>87.0</td>\n",
              "      <td>22.0</td>\n",
              "      <td>8.3</td>\n",
              "      <td>194.0</td>\n",
              "      <td>Psyonix</td>\n",
              "      <td>E</td>\n",
              "    </tr>\n",
              "    <tr>\n",
              "      <th>2016-01-01</th>\n",
              "      <td>FIFA 17</td>\n",
              "      <td>X360</td>\n",
              "      <td>Sports</td>\n",
              "      <td>Electronic Arts</td>\n",
              "      <td>0.07</td>\n",
              "      <td>0.28</td>\n",
              "      <td>0.00</td>\n",
              "      <td>0.03</td>\n",
              "      <td>0.38</td>\n",
              "      <td>NaN</td>\n",
              "      <td>NaN</td>\n",
              "      <td>1.7</td>\n",
              "      <td>23.0</td>\n",
              "      <td>EA Sports, EA Vancouver</td>\n",
              "      <td>E</td>\n",
              "    </tr>\n",
              "    <tr>\n",
              "      <th>2016-01-01</th>\n",
              "      <td>Shitsuji ga Aruji o Erabu Toki</td>\n",
              "      <td>PSV</td>\n",
              "      <td>Adventure</td>\n",
              "      <td>Unknown</td>\n",
              "      <td>0.00</td>\n",
              "      <td>0.00</td>\n",
              "      <td>0.01</td>\n",
              "      <td>0.00</td>\n",
              "      <td>0.01</td>\n",
              "      <td>NaN</td>\n",
              "      <td>NaN</td>\n",
              "      <td>NaN</td>\n",
              "      <td>NaN</td>\n",
              "      <td>NaN</td>\n",
              "      <td>NaN</td>\n",
              "    </tr>\n",
              "    <tr>\n",
              "      <th>2016-01-01</th>\n",
              "      <td>Rugby Challenge 3</td>\n",
              "      <td>PS3</td>\n",
              "      <td>Sports</td>\n",
              "      <td>Alternative Software</td>\n",
              "      <td>0.00</td>\n",
              "      <td>0.02</td>\n",
              "      <td>0.00</td>\n",
              "      <td>0.00</td>\n",
              "      <td>0.03</td>\n",
              "      <td>NaN</td>\n",
              "      <td>NaN</td>\n",
              "      <td>tbd</td>\n",
              "      <td>NaN</td>\n",
              "      <td>Wicked Witch Software</td>\n",
              "      <td>NaN</td>\n",
              "    </tr>\n",
              "    <tr>\n",
              "      <th>2016-01-01</th>\n",
              "      <td>Call of Duty: Modern Warfare Trilogy</td>\n",
              "      <td>X360</td>\n",
              "      <td>Shooter</td>\n",
              "      <td>Activision</td>\n",
              "      <td>0.02</td>\n",
              "      <td>0.02</td>\n",
              "      <td>0.00</td>\n",
              "      <td>0.00</td>\n",
              "      <td>0.04</td>\n",
              "      <td>NaN</td>\n",
              "      <td>NaN</td>\n",
              "      <td>tbd</td>\n",
              "      <td>NaN</td>\n",
              "      <td>Infinity Ward</td>\n",
              "      <td>M</td>\n",
              "    </tr>\n",
              "    <tr>\n",
              "      <th>2016-01-01</th>\n",
              "      <td>MLB 16: The Show</td>\n",
              "      <td>PS4</td>\n",
              "      <td>Action</td>\n",
              "      <td>Sony Computer Entertainment</td>\n",
              "      <td>0.72</td>\n",
              "      <td>0.00</td>\n",
              "      <td>0.00</td>\n",
              "      <td>0.17</td>\n",
              "      <td>0.89</td>\n",
              "      <td>NaN</td>\n",
              "      <td>NaN</td>\n",
              "      <td>NaN</td>\n",
              "      <td>NaN</td>\n",
              "      <td>NaN</td>\n",
              "      <td>NaN</td>\n",
              "    </tr>\n",
              "    <tr>\n",
              "      <th>2016-01-01</th>\n",
              "      <td>Psycho-Pass: Mandatory Happiness</td>\n",
              "      <td>PS4</td>\n",
              "      <td>Adventure</td>\n",
              "      <td>Nippon Ichi Software</td>\n",
              "      <td>0.03</td>\n",
              "      <td>0.00</td>\n",
              "      <td>0.00</td>\n",
              "      <td>0.01</td>\n",
              "      <td>0.04</td>\n",
              "      <td>72.0</td>\n",
              "      <td>26.0</td>\n",
              "      <td>8.3</td>\n",
              "      <td>19.0</td>\n",
              "      <td>5pb</td>\n",
              "      <td>T</td>\n",
              "    </tr>\n",
              "    <tr>\n",
              "      <th>2016-01-01</th>\n",
              "      <td>Sengoku Basara: Sanada Yukimura-Den</td>\n",
              "      <td>PS3</td>\n",
              "      <td>Action</td>\n",
              "      <td>Capcom</td>\n",
              "      <td>0.00</td>\n",
              "      <td>0.00</td>\n",
              "      <td>0.03</td>\n",
              "      <td>0.00</td>\n",
              "      <td>0.03</td>\n",
              "      <td>NaN</td>\n",
              "      <td>NaN</td>\n",
              "      <td>NaN</td>\n",
              "      <td>NaN</td>\n",
              "      <td>NaN</td>\n",
              "      <td>NaN</td>\n",
              "    </tr>\n",
              "    <tr>\n",
              "      <th>2016-01-01</th>\n",
              "      <td>Jikkyou Powerful Pro Baseball 2016</td>\n",
              "      <td>PS4</td>\n",
              "      <td>Sports</td>\n",
              "      <td>Konami Digital Entertainment</td>\n",
              "      <td>0.00</td>\n",
              "      <td>0.00</td>\n",
              "      <td>0.17</td>\n",
              "      <td>0.00</td>\n",
              "      <td>0.17</td>\n",
              "      <td>NaN</td>\n",
              "      <td>NaN</td>\n",
              "      <td>NaN</td>\n",
              "      <td>NaN</td>\n",
              "      <td>NaN</td>\n",
              "      <td>NaN</td>\n",
              "    </tr>\n",
              "    <tr>\n",
              "      <th>2016-01-01</th>\n",
              "      <td>Total War: WARHAMMER</td>\n",
              "      <td>PC</td>\n",
              "      <td>Strategy</td>\n",
              "      <td>Sega</td>\n",
              "      <td>0.00</td>\n",
              "      <td>0.12</td>\n",
              "      <td>0.00</td>\n",
              "      <td>0.01</td>\n",
              "      <td>0.13</td>\n",
              "      <td>86.0</td>\n",
              "      <td>77.0</td>\n",
              "      <td>7.3</td>\n",
              "      <td>556.0</td>\n",
              "      <td>Creative Assembly</td>\n",
              "      <td>T</td>\n",
              "    </tr>\n",
              "    <tr>\n",
              "      <th>2016-01-01</th>\n",
              "      <td>Azure Striker Gunvolt: Striker Pack</td>\n",
              "      <td>3DS</td>\n",
              "      <td>Action</td>\n",
              "      <td>Inti Creates</td>\n",
              "      <td>0.00</td>\n",
              "      <td>0.00</td>\n",
              "      <td>0.01</td>\n",
              "      <td>0.00</td>\n",
              "      <td>0.01</td>\n",
              "      <td>NaN</td>\n",
              "      <td>NaN</td>\n",
              "      <td>tbd</td>\n",
              "      <td>NaN</td>\n",
              "      <td>Inti Creates</td>\n",
              "      <td>T</td>\n",
              "    </tr>\n",
              "    <tr>\n",
              "      <th>2016-01-01</th>\n",
              "      <td>The Idolmaster: Platinum Stars</td>\n",
              "      <td>PS4</td>\n",
              "      <td>Simulation</td>\n",
              "      <td>Namco Bandai Games</td>\n",
              "      <td>0.00</td>\n",
              "      <td>0.00</td>\n",
              "      <td>0.10</td>\n",
              "      <td>0.00</td>\n",
              "      <td>0.10</td>\n",
              "      <td>NaN</td>\n",
              "      <td>NaN</td>\n",
              "      <td>NaN</td>\n",
              "      <td>NaN</td>\n",
              "      <td>NaN</td>\n",
              "      <td>NaN</td>\n",
              "    </tr>\n",
              "  </tbody>\n",
              "</table>\n",
              "</div>"
            ],
            "text/plain": [
              "                                                             Name  ... Rating\n",
              "Year_of_Release                                                    ...       \n",
              "2020-01-01                                 Imagine: Makeup Artist  ...      E\n",
              "2017-01-01       Phantasy Star Online 2 Episode 4: Deluxe Package  ...    NaN\n",
              "2017-01-01                       Brothers Conflict: Precious Baby  ...    NaN\n",
              "2017-01-01       Phantasy Star Online 2 Episode 4: Deluxe Package  ...    NaN\n",
              "2016-01-01                                    Winning Post 8 2016  ...    NaN\n",
              "2016-01-01                                       The Technomancer  ...      M\n",
              "2016-01-01                                          Battlefield 1  ...      M\n",
              "2016-01-01                                                 NHL 17  ...   E10+\n",
              "2016-01-01                                          Madden NFL 17  ...      E\n",
              "2016-01-01                               Deus Ex: Mankind Divided  ...      M\n",
              "2016-01-01                        Darksiders: Warmastered Edition  ...      M\n",
              "2016-01-01                                          Dead Rising 2  ...      M\n",
              "2016-01-01                              Tom Clancy's The Division  ...      M\n",
              "2016-01-01                              Pro Evolution Soccer 2017  ...      E\n",
              "2016-01-01                                Destiny: The Collection  ...      T\n",
              "2016-01-01                                        Far Cry: Primal  ...      M\n",
              "2016-01-01                      Rocksmith 2014 Edition Remastered  ...      T\n",
              "2016-01-01                                              Overwatch  ...      T\n",
              "2016-01-01                                          Rocket League  ...      E\n",
              "2016-01-01                                                FIFA 17  ...      E\n",
              "2016-01-01                         Shitsuji ga Aruji o Erabu Toki  ...    NaN\n",
              "2016-01-01                                      Rugby Challenge 3  ...    NaN\n",
              "2016-01-01                   Call of Duty: Modern Warfare Trilogy  ...      M\n",
              "2016-01-01                                       MLB 16: The Show  ...    NaN\n",
              "2016-01-01                       Psycho-Pass: Mandatory Happiness  ...      T\n",
              "2016-01-01                    Sengoku Basara: Sanada Yukimura-Den  ...    NaN\n",
              "2016-01-01                     Jikkyou Powerful Pro Baseball 2016  ...    NaN\n",
              "2016-01-01                                   Total War: WARHAMMER  ...      T\n",
              "2016-01-01                    Azure Striker Gunvolt: Striker Pack  ...      T\n",
              "2016-01-01                         The Idolmaster: Platinum Stars  ...    NaN\n",
              "\n",
              "[30 rows x 15 columns]"
            ]
          },
          "metadata": {},
          "execution_count": 4
        }
      ]
    },
    {
      "cell_type": "code",
      "metadata": {
        "colab": {
          "base_uri": "https://localhost:8080/"
        },
        "id": "31szNlu7WBT-",
        "outputId": "ad537974-9b0e-40e4-b525-cf9c9f028d7d"
      },
      "source": [
        "df['Developer'].value_counts()"
      ],
      "execution_count": 5,
      "outputs": [
        {
          "output_type": "execute_result",
          "data": {
            "text/plain": [
              "Ubisoft                            204\n",
              "EA Sports                          172\n",
              "EA Canada                          167\n",
              "Konami                             162\n",
              "Capcom                             139\n",
              "                                  ... \n",
              "Camouflaj, LLC                       1\n",
              "Headup Games                         1\n",
              "EA Redwood Shores, EA Salt Lake      1\n",
              "LDW                                  1\n",
              "Astroll                              1\n",
              "Name: Developer, Length: 1696, dtype: int64"
            ]
          },
          "metadata": {},
          "execution_count": 5
        }
      ]
    },
    {
      "cell_type": "code",
      "metadata": {
        "id": "rDVP_b6xWBT_"
      },
      "source": [
        "dev = df['Developer'].value_counts()[df['Developer'].value_counts()>100].index.tolist()\n",
        "pub = df['Publisher'].value_counts()[df['Publisher'].value_counts()>100].index.tolist()\n",
        "plat = df['Platform'].value_counts()[df['Platform'].value_counts()>90].index.tolist()"
      ],
      "execution_count": 6,
      "outputs": []
    },
    {
      "cell_type": "code",
      "metadata": {
        "id": "9UDFigX3WBT_"
      },
      "source": [
        "df['dev']=np.where(df['Developer'].isin(dev),df['Developer'],'few developments')\n",
        "df['pub']=np.where(df['Publisher'].isin(pub),df['Publisher'],'few publishments')\n",
        "df['plat']=np.where(df['Platform'].isin(plat),df['Platform'],'small platform')\n",
        "df.drop(columns=['Publisher','Developer','Platform'],inplace=True)"
      ],
      "execution_count": 7,
      "outputs": []
    },
    {
      "cell_type": "code",
      "metadata": {
        "id": "ebU74FW9ezOc"
      },
      "source": [
        "import seaborn as sns"
      ],
      "execution_count": 8,
      "outputs": []
    },
    {
      "cell_type": "code",
      "metadata": {
        "id": "hd_AZqxrCDFn"
      },
      "source": [
        "target = 'Global_Sales'\n",
        "Xn = df.drop(columns=['NA_Sales', 'EU_Sales','JP_Sales','Other_Sales', target,'Name'])\n",
        "y=df[target]\n",
        "#Regression problem\n",
        "#i will consider meanabserror rootmean and r^2\n",
        "#date cutoff split\n",
        "#i have removed NA,EU,JP,and other sales, and may use those as targets to futher evaluate the data\n",
        "#the name column has been removed because of HCC"
      ],
      "execution_count": 9,
      "outputs": []
    },
    {
      "cell_type": "code",
      "metadata": {
        "id": "4mUUaaYLGp4M"
      },
      "source": [
        "Xn['Rating'].fillna('NR/na',inplace=True)\n",
        "Xn['Genre'].fillna('NR/na',inplace=True)\n"
      ],
      "execution_count": 10,
      "outputs": []
    },
    {
      "cell_type": "code",
      "metadata": {
        "id": "sJ7NBKL8pH4m"
      },
      "source": [
        "Xn['User_Score'] = pd.to_numeric(Xn['User_Score'],errors='coerce')\n"
      ],
      "execution_count": 11,
      "outputs": []
    },
    {
      "cell_type": "code",
      "metadata": {
        "id": "QQip08R5pL5h"
      },
      "source": [
        "Xn.fillna(0,inplace=True)"
      ],
      "execution_count": 12,
      "outputs": []
    },
    {
      "cell_type": "code",
      "metadata": {
        "colab": {
          "base_uri": "https://localhost:8080/"
        },
        "id": "6QoHgsxMmbXL",
        "outputId": "bb40717f-827c-4add-8fb8-89001b85e358"
      },
      "source": [
        "Xn.info()"
      ],
      "execution_count": 13,
      "outputs": [
        {
          "output_type": "stream",
          "text": [
            "<class 'pandas.core.frame.DataFrame'>\n",
            "DatetimeIndex: 16719 entries, 2020-01-01 to NaT\n",
            "Data columns (total 9 columns):\n",
            " #   Column        Non-Null Count  Dtype  \n",
            "---  ------        --------------  -----  \n",
            " 0   Genre         16719 non-null  object \n",
            " 1   Critic_Score  16719 non-null  float64\n",
            " 2   Critic_Count  16719 non-null  float64\n",
            " 3   User_Score    16719 non-null  float64\n",
            " 4   User_Count    16719 non-null  float64\n",
            " 5   Rating        16719 non-null  object \n",
            " 6   dev           16719 non-null  object \n",
            " 7   pub           16719 non-null  object \n",
            " 8   plat          16719 non-null  object \n",
            "dtypes: float64(4), object(5)\n",
            "memory usage: 1.3+ MB\n"
          ],
          "name": "stdout"
        }
      ]
    },
    {
      "cell_type": "code",
      "metadata": {
        "id": "qcxx5BTdFVmb"
      },
      "source": [
        "ohe = OneHotEncoder(use_cat_names=True)\n",
        "ohe.fit(Xn)\n",
        "X = ohe.transform(Xn)"
      ],
      "execution_count": 14,
      "outputs": []
    },
    {
      "cell_type": "code",
      "metadata": {
        "colab": {
          "base_uri": "https://localhost:8080/"
        },
        "id": "nyCjZFWehJ5M",
        "outputId": "948efed4-b74b-4d33-fdba-e508b4c2acaf"
      },
      "source": [
        "y.shape"
      ],
      "execution_count": 15,
      "outputs": [
        {
          "output_type": "execute_result",
          "data": {
            "text/plain": [
              "(16719,)"
            ]
          },
          "metadata": {},
          "execution_count": 15
        }
      ]
    },
    {
      "cell_type": "code",
      "metadata": {
        "colab": {
          "base_uri": "https://localhost:8080/"
        },
        "id": "WryfrP1rjpkw",
        "outputId": "750556fe-4498-47e9-885d-ce57a61b1082"
      },
      "source": [
        "X.shape"
      ],
      "execution_count": 16,
      "outputs": [
        {
          "output_type": "execute_result",
          "data": {
            "text/plain": [
              "(16719, 88)"
            ]
          },
          "metadata": {},
          "execution_count": 16
        }
      ]
    },
    {
      "cell_type": "code",
      "metadata": {
        "id": "eRzKys0Ag6Lv"
      },
      "source": [
        "corla = X.corrwith(y,)"
      ],
      "execution_count": 17,
      "outputs": []
    },
    {
      "cell_type": "code",
      "metadata": {
        "colab": {
          "base_uri": "https://localhost:8080/"
        },
        "id": "0MD97KNWrUO0",
        "outputId": "e1465478-567f-44af-9157-96b284a51e77"
      },
      "source": [
        "corla.sort_values()"
      ],
      "execution_count": 18,
      "outputs": [
        {
          "output_type": "execute_result",
          "data": {
            "text/plain": [
              "pub_few publishments                         -0.119007\n",
              "Genre_Adventure                              -0.065949\n",
              "Rating_NR/na                                 -0.059854\n",
              "plat_PSP                                     -0.052329\n",
              "dev_few developments                         -0.044441\n",
              "plat_PSV                                     -0.042956\n",
              "plat_PC                                      -0.042789\n",
              "pub_Namco Bandai Games                       -0.041350\n",
              "plat_DS                                      -0.039356\n",
              "Genre_Strategy                               -0.037072\n",
              "pub_Tecmo Koei                               -0.035764\n",
              "plat_XB                                      -0.032378\n",
              "pub_Idea Factory                             -0.029139\n",
              "pub_Konami Digital Entertainment             -0.028858\n",
              "pub_D3Publisher                              -0.027568\n",
              "pub_Unknown                                  -0.025823\n",
              "plat_SAT                                     -0.022419\n",
              "plat_GBA                                     -0.021459\n",
              "pub_Zoo Digital Publishing                   -0.020975\n",
              "plat_GC                                      -0.020967\n",
              "pub_Nippon Ichi Software                     -0.020883\n",
              "pub_Deep Silver                              -0.017865\n",
              "pub_505 Games                                -0.016939\n",
              "Genre_Misc                                   -0.016475\n",
              "pub_Sega                                     -0.014129\n",
              "Rating_E10+                                  -0.014113\n",
              "Genre_Puzzle                                 -0.014028\n",
              "pub_Codemasters                              -0.013425\n",
              "Genre_Simulation                             -0.013176\n",
              "pub_Midway Games                             -0.012849\n",
              "pub_Acclaim Entertainment                    -0.012035\n",
              "pub_Vivendi Games                            -0.011590\n",
              "pub_Atari                                    -0.010280\n",
              "Rating_T                                     -0.008646\n",
              "pub_THQ                                      -0.008220\n",
              "dev_Konami                                   -0.005473\n",
              "Genre_Action                                 -0.005083\n",
              "pub_Ubisoft                                  -0.004408\n",
              "Rating_EC                                    -0.004397\n",
              "Rating_RP                                    -0.004387\n",
              "plat_3DS                                     -0.004085\n",
              "plat_small platform                          -0.003764\n",
              "pub_Eidos Interactive                        -0.002497\n",
              "pub_Capcom                                   -0.001525\n",
              "Genre_Fighting                               -0.000968\n",
              "pub_Disney Interactive Studios                0.000360\n",
              "plat_WiiU                                     0.001544\n",
              "Genre_NR/na                                   0.004780\n",
              "dev_Electronic Arts                           0.005294\n",
              "pub_Square Enix                               0.006415\n",
              "Rating_AO                                     0.007077\n",
              "Rating_K-A                                    0.007874\n",
              "dev_Ubisoft                                   0.008341\n",
              "pub_Warner Bros. Interactive Entertainment    0.008668\n",
              "Genre_Sports                                  0.008813\n",
              "plat_XOne                                     0.008858\n",
              "Genre_Racing                                  0.009186\n",
              "plat_2600                                     0.011361\n",
              "plat_PS2                                      0.011824\n",
              "plat_N64                                      0.013750\n",
              "plat_PS                                       0.013793\n",
              "dev_Capcom                                    0.017681\n",
              "Genre_Role-Playing                            0.018130\n",
              "dev_EA Tiburon                                0.018569\n",
              "dev_EA Canada                                 0.020679\n",
              "plat_SNES                                     0.023611\n",
              "plat_PS4                                      0.026665\n",
              "dev_Ubisoft Montreal                          0.027139\n",
              "Rating_E                                      0.027876\n",
              "plat_Wii                                      0.029211\n",
              "dev_EA Sports                                 0.032018\n",
              "plat_PS3                                      0.032731\n",
              "pub_Activision                                0.033743\n",
              "plat_X360                                     0.043633\n",
              "pub_Take-Two Interactive                      0.044014\n",
              "pub_Sony Computer Entertainment               0.046707\n",
              "Genre_Shooter                                 0.049680\n",
              "pub_Microsoft Game Studios                    0.053237\n",
              "pub_Electronic Arts                           0.055694\n",
              "Genre_Platform                                0.061047\n",
              "Rating_M                                      0.084939\n",
              "plat_NES                                      0.100623\n",
              "plat_GB                                       0.102840\n",
              "User_Score                                    0.136321\n",
              "Critic_Score                                  0.148701\n",
              "User_Count                                    0.236908\n",
              "Critic_Count                                  0.245175\n",
              "pub_Nintendo                                  0.271329\n",
              "dtype: float64"
            ]
          },
          "metadata": {},
          "execution_count": 18
        }
      ]
    },
    {
      "cell_type": "code",
      "metadata": {
        "colab": {
          "base_uri": "https://localhost:8080/",
          "height": 282
        },
        "id": "LYUd-KlBqqDb",
        "outputId": "17338326-3828-461a-c6ab-2823fcc2a48f"
      },
      "source": [
        "sns.histplot(corla)\n"
      ],
      "execution_count": 19,
      "outputs": [
        {
          "output_type": "execute_result",
          "data": {
            "text/plain": [
              "<matplotlib.axes._subplots.AxesSubplot at 0x7f53ff3775d0>"
            ]
          },
          "metadata": {},
          "execution_count": 19
        },
        {
          "output_type": "display_data",
          "data": {
            "image/png": "[encoded data removed]",
            "text/plain": [
              "<Figure size 432x288 with 1 Axes>"
            ]
          },
          "metadata": {
            "needs_background": "light"
          }
        }
      ]
    },
    {
      "cell_type": "code",
      "metadata": {
        "id": "-OuCQh3_CDFn"
      },
      "source": [
        "X_train,y_train = X[:'2010-01-01'],y[:'2010-01-01']\n",
        "X_val,y_val = X['2010-01-01':],y['2010-01-01':]"
      ],
      "execution_count": 20,
      "outputs": []
    },
    {
      "cell_type": "code",
      "metadata": {
        "colab": {
          "base_uri": "https://localhost:8080/"
        },
        "id": "RbjizRPuCDFo",
        "outputId": "85f83aca-485c-4323-83bc-6d0a4d39eb47"
      },
      "source": [
        "y_pred = [y_train.mean()]*len(y_train)\n",
        "\n",
        "baseline_mae = mean_absolute_error(y_train, y_pred)\n",
        "print('Baseline MAE:', baseline_mae)"
      ],
      "execution_count": 21,
      "outputs": [
        {
          "output_type": "stream",
          "text": [
            "Baseline MAE: 0.6006414194697872\n"
          ],
          "name": "stdout"
        }
      ]
    },
    {
      "cell_type": "code",
      "metadata": {
        "id": "k7WZltY2FNVx",
        "colab": {
          "base_uri": "https://localhost:8080/"
        },
        "outputId": "79f7d36e-dedc-4989-aa44-993f554deab4"
      },
      "source": [
        "X_train.columns"
      ],
      "execution_count": 22,
      "outputs": [
        {
          "output_type": "execute_result",
          "data": {
            "text/plain": [
              "Index(['Genre_Simulation', 'Genre_Role-Playing', 'Genre_Action',\n",
              "       'Genre_Shooter', 'Genre_Sports', 'Genre_Misc', 'Genre_Adventure',\n",
              "       'Genre_Strategy', 'Genre_Racing', 'Genre_Fighting', 'Genre_Platform',\n",
              "       'Genre_Puzzle', 'Genre_NR/na', 'Critic_Score', 'Critic_Count',\n",
              "       'User_Score', 'User_Count', 'Rating_E', 'Rating_NR/na', 'Rating_M',\n",
              "       'Rating_E10+', 'Rating_T', 'Rating_EC', 'Rating_RP', 'Rating_AO',\n",
              "       'Rating_K-A', 'dev_Ubisoft', 'dev_few developments', 'dev_EA Sports',\n",
              "       'dev_Konami', 'dev_Ubisoft Montreal', 'dev_Capcom', 'dev_EA Tiburon',\n",
              "       'dev_EA Canada', 'dev_Electronic Arts', 'pub_Ubisoft', 'pub_Sega',\n",
              "       'pub_Idea Factory', 'pub_Tecmo Koei', 'pub_few publishments',\n",
              "       'pub_Electronic Arts', 'pub_Square Enix', 'pub_Capcom',\n",
              "       'pub_Konami Digital Entertainment', 'pub_Activision', 'pub_505 Games',\n",
              "       'pub_Unknown', 'pub_Sony Computer Entertainment',\n",
              "       'pub_Nippon Ichi Software', 'pub_Namco Bandai Games', 'pub_Nintendo',\n",
              "       'pub_Atari', 'pub_D3Publisher', 'pub_Take-Two Interactive',\n",
              "       'pub_Warner Bros. Interactive Entertainment', 'pub_Deep Silver',\n",
              "       'pub_Codemasters', 'pub_Microsoft Game Studios',\n",
              "       'pub_Disney Interactive Studios', 'pub_THQ', 'pub_Eidos Interactive',\n",
              "       'pub_Vivendi Games', 'pub_Zoo Digital Publishing', 'pub_Midway Games',\n",
              "       'pub_Acclaim Entertainment', 'plat_DS', 'plat_PS4', 'plat_PSV',\n",
              "       'plat_PC', 'plat_XOne', 'plat_X360', 'plat_PS3', 'plat_3DS',\n",
              "       'plat_WiiU', 'plat_Wii', 'plat_PSP', 'plat_PS2', 'plat_XB',\n",
              "       'plat_small platform', 'plat_GC', 'plat_GBA', 'plat_PS', 'plat_N64',\n",
              "       'plat_GB', 'plat_SAT', 'plat_SNES', 'plat_NES', 'plat_2600'],\n",
              "      dtype='object')"
            ]
          },
          "metadata": {},
          "execution_count": 22
        }
      ]
    },
    {
      "cell_type": "code",
      "metadata": {
        "colab": {
          "base_uri": "https://localhost:8080/"
        },
        "id": "MraHPRVLEa8z",
        "outputId": "c954c9b2-605d-4bad-cb25-818356764fac"
      },
      "source": [
        "model_r = Ridge()\n",
        "model_rf = RandomForestRegressor() \n",
        "model_xgbr = XGBRegressor()\n",
        "model_r.fit(X_train,y_train)\n",
        "model_rf.fit(X_train,y_train)\n",
        "model_xgbr.fit(X_train,y_train)"
      ],
      "execution_count": 23,
      "outputs": [
        {
          "output_type": "stream",
          "text": [
            "[22:38:53] WARNING: /workspace/src/objective/regression_obj.cu:152: reg:linear is now deprecated in favor of reg:squarederror.\n"
          ],
          "name": "stdout"
        },
        {
          "output_type": "execute_result",
          "data": {
            "text/plain": [
              "XGBRegressor(base_score=0.5, booster='gbtree', colsample_bylevel=1,\n",
              "             colsample_bynode=1, colsample_bytree=1, gamma=0,\n",
              "             importance_type='gain', learning_rate=0.1, max_delta_step=0,\n",
              "             max_depth=3, min_child_weight=1, missing=None, n_estimators=100,\n",
              "             n_jobs=1, nthread=None, objective='reg:linear', random_state=0,\n",
              "             reg_alpha=0, reg_lambda=1, scale_pos_weight=1, seed=None,\n",
              "             silent=None, subsample=1, verbosity=1)"
            ]
          },
          "metadata": {},
          "execution_count": 23
        }
      ]
    },
    {
      "cell_type": "code",
      "metadata": {
        "colab": {
          "base_uri": "https://localhost:8080/"
        },
        "id": "9ClqSyxfEQgS",
        "outputId": "2b002acf-f61d-4a8a-e416-613cfec21e07"
      },
      "source": [
        "def check_metrics(model):\n",
        "  print(model)\n",
        "  print('Training MAE:', mean_absolute_error(y_train,model.predict(X_train)))\n",
        "  print('Validation MAE:', mean_absolute_error(y_val,model.predict(X_val)))\n",
        "  print('R2 score:', model.score(X_val,y_val))\n",
        "\n",
        "model = [model_r,model_rf,model_xgbr]\n",
        "for m in model:\n",
        "  check_metrics(m)"
      ],
      "execution_count": 24,
      "outputs": [
        {
          "output_type": "stream",
          "text": [
            "Ridge(alpha=1.0, copy_X=True, fit_intercept=True, max_iter=None,\n",
            "      normalize=False, random_state=None, solver='auto', tol=0.001)\n",
            "Training MAE: 0.5223320389390967\n",
            "Validation MAE: 0.5208561263269881\n",
            "R2 score: 0.19141414184009142\n",
            "RandomForestRegressor(bootstrap=True, ccp_alpha=0.0, criterion='mse',\n",
            "                      max_depth=None, max_features='auto', max_leaf_nodes=None,\n",
            "                      max_samples=None, min_impurity_decrease=0.0,\n",
            "                      min_impurity_split=None, min_samples_leaf=1,\n",
            "                      min_samples_split=2, min_weight_fraction_leaf=0.0,\n",
            "                      n_estimators=100, n_jobs=None, oob_score=False,\n",
            "                      random_state=None, verbose=0, warm_start=False)\n",
            "Training MAE: 0.2329000068833265\n",
            "Validation MAE: 0.236408148842476\n",
            "R2 score: 0.7416817621486498\n",
            "XGBRegressor(base_score=0.5, booster='gbtree', colsample_bylevel=1,\n",
            "             colsample_bynode=1, colsample_bytree=1, gamma=0,\n",
            "             importance_type='gain', learning_rate=0.1, max_delta_step=0,\n",
            "             max_depth=3, min_child_weight=1, missing=None, n_estimators=100,\n",
            "             n_jobs=1, nthread=None, objective='reg:linear', random_state=0,\n",
            "             reg_alpha=0, reg_lambda=1, scale_pos_weight=1, seed=None,\n",
            "             silent=None, subsample=1, verbosity=1)\n",
            "Training MAE: 0.407248971147627\n",
            "Validation MAE: 0.4059018532051917\n",
            "R2 score: 0.5393506403487656\n"
          ],
          "name": "stdout"
        }
      ]
    },
    {
      "cell_type": "code",
      "metadata": {
        "colab": {
          "base_uri": "https://localhost:8080/"
        },
        "id": "fUlERMLmU8vt",
        "outputId": "70380a68-0077-46e2-ace9-0ddba4387906"
      },
      "source": [
        "model_rfp = make_pipeline(OneHotEncoder(use_cat_names=True),\n",
        "                          RandomForestRegressor())\n",
        "model_rfp.fit(X_train,y_train)\n"
      ],
      "execution_count": 25,
      "outputs": [
        {
          "output_type": "execute_result",
          "data": {
            "text/plain": [
              "Pipeline(memory=None,\n",
              "         steps=[('onehotencoder',\n",
              "                 OneHotEncoder(cols=[], drop_invariant=False,\n",
              "                               handle_missing='value', handle_unknown='value',\n",
              "                               return_df=True, use_cat_names=True, verbose=0)),\n",
              "                ('randomforestregressor',\n",
              "                 RandomForestRegressor(bootstrap=True, ccp_alpha=0.0,\n",
              "                                       criterion='mse', max_depth=None,\n",
              "                                       max_features='auto', max_leaf_nodes=None,\n",
              "                                       max_samples=None,\n",
              "                                       min_impurity_decrease=0.0,\n",
              "                                       min_impurity_split=None,\n",
              "                                       min_samples_leaf=1, min_samples_split=2,\n",
              "                                       min_weight_fraction_leaf=0.0,\n",
              "                                       n_estimators=100, n_jobs=None,\n",
              "                                       oob_score=False, random_state=None,\n",
              "                                       verbose=0, warm_start=False))],\n",
              "         verbose=False)"
            ]
          },
          "metadata": {},
          "execution_count": 25
        }
      ]
    },
    {
      "cell_type": "code",
      "metadata": {
        "colab": {
          "base_uri": "https://localhost:8080/"
        },
        "id": "02emvsCgV0v8",
        "outputId": "d08692a3-e668-4b7e-b90f-981b79df2868"
      },
      "source": [
        "X.columns"
      ],
      "execution_count": 26,
      "outputs": [
        {
          "output_type": "execute_result",
          "data": {
            "text/plain": [
              "Index(['Genre_Simulation', 'Genre_Role-Playing', 'Genre_Action',\n",
              "       'Genre_Shooter', 'Genre_Sports', 'Genre_Misc', 'Genre_Adventure',\n",
              "       'Genre_Strategy', 'Genre_Racing', 'Genre_Fighting', 'Genre_Platform',\n",
              "       'Genre_Puzzle', 'Genre_NR/na', 'Critic_Score', 'Critic_Count',\n",
              "       'User_Score', 'User_Count', 'Rating_E', 'Rating_NR/na', 'Rating_M',\n",
              "       'Rating_E10+', 'Rating_T', 'Rating_EC', 'Rating_RP', 'Rating_AO',\n",
              "       'Rating_K-A', 'dev_Ubisoft', 'dev_few developments', 'dev_EA Sports',\n",
              "       'dev_Konami', 'dev_Ubisoft Montreal', 'dev_Capcom', 'dev_EA Tiburon',\n",
              "       'dev_EA Canada', 'dev_Electronic Arts', 'pub_Ubisoft', 'pub_Sega',\n",
              "       'pub_Idea Factory', 'pub_Tecmo Koei', 'pub_few publishments',\n",
              "       'pub_Electronic Arts', 'pub_Square Enix', 'pub_Capcom',\n",
              "       'pub_Konami Digital Entertainment', 'pub_Activision', 'pub_505 Games',\n",
              "       'pub_Unknown', 'pub_Sony Computer Entertainment',\n",
              "       'pub_Nippon Ichi Software', 'pub_Namco Bandai Games', 'pub_Nintendo',\n",
              "       'pub_Atari', 'pub_D3Publisher', 'pub_Take-Two Interactive',\n",
              "       'pub_Warner Bros. Interactive Entertainment', 'pub_Deep Silver',\n",
              "       'pub_Codemasters', 'pub_Microsoft Game Studios',\n",
              "       'pub_Disney Interactive Studios', 'pub_THQ', 'pub_Eidos Interactive',\n",
              "       'pub_Vivendi Games', 'pub_Zoo Digital Publishing', 'pub_Midway Games',\n",
              "       'pub_Acclaim Entertainment', 'plat_DS', 'plat_PS4', 'plat_PSV',\n",
              "       'plat_PC', 'plat_XOne', 'plat_X360', 'plat_PS3', 'plat_3DS',\n",
              "       'plat_WiiU', 'plat_Wii', 'plat_PSP', 'plat_PS2', 'plat_XB',\n",
              "       'plat_small platform', 'plat_GC', 'plat_GBA', 'plat_PS', 'plat_N64',\n",
              "       'plat_GB', 'plat_SAT', 'plat_SNES', 'plat_NES', 'plat_2600'],\n",
              "      dtype='object')"
            ]
          },
          "metadata": {},
          "execution_count": 26
        }
      ]
    },
    {
      "cell_type": "code",
      "metadata": {
        "colab": {
          "base_uri": "https://localhost:8080/",
          "height": 282
        },
        "id": "uCuDK0l-UwP7",
        "outputId": "54d63dec-77a8-46e9-a833-94d46409984d"
      },
      "source": [
        "importances =  model_rfp.named_steps['randomforestregressor'].feature_importances_\n",
        "feature_names = X_train.columns\n",
        "feat_imp =pd.Series(data=importances,index=feature_names).sort_values(key=abs)\n",
        "feat_imp.tail(10).plot(kind='barh')"
      ],
      "execution_count": 31,
      "outputs": [
        {
          "output_type": "execute_result",
          "data": {
            "text/plain": [
              "<matplotlib.axes._subplots.AxesSubplot at 0x7f53f4f5c650>"
            ]
          },
          "metadata": {},
          "execution_count": 31
        },
        {
          "output_type": "display_data",
          "data": {
            "image/png": "[encoded data removed]",
            "text/plain": [
              "<Figure size 432x288 with 1 Axes>"
            ]
          },
          "metadata": {
            "needs_background": "light"
          }
        }
      ]
    },
    {
      "cell_type": "code",
      "metadata": {
        "colab": {
          "base_uri": "https://localhost:8080/"
        },
        "id": "pG_1pylK3dr1",
        "outputId": "89e41f8f-b640-48d8-a03d-f2aa443c4c59"
      },
      "source": [
        "feat_imp"
      ],
      "execution_count": 28,
      "outputs": [
        {
          "output_type": "execute_result",
          "data": {
            "text/plain": [
              "Rating_RP                                     0.000000\n",
              "plat_WiiU                                     0.000000\n",
              "plat_3DS                                      0.000000\n",
              "plat_XOne                                     0.000000\n",
              "plat_PSV                                      0.000000\n",
              "plat_PS4                                      0.000000\n",
              "Rating_EC                                     0.000002\n",
              "pub_Idea Factory                              0.000005\n",
              "Rating_AO                                     0.000011\n",
              "pub_Nippon Ichi Software                      0.000015\n",
              "pub_Zoo Digital Publishing                    0.000024\n",
              "pub_Deep Silver                               0.000025\n",
              "plat_SAT                                      0.000059\n",
              "pub_D3Publisher                               0.000061\n",
              "Genre_NR/na                                   0.000081\n",
              "pub_Unknown                                   0.000118\n",
              "pub_Tecmo Koei                                0.000130\n",
              "dev_Ubisoft Montreal                          0.000137\n",
              "dev_Electronic Arts                           0.000137\n",
              "Rating_K-A                                    0.000158\n",
              "dev_EA Tiburon                                0.000191\n",
              "pub_Codemasters                               0.000208\n",
              "pub_Midway Games                              0.000298\n",
              "pub_Square Enix                               0.000358\n",
              "dev_EA Sports                                 0.000401\n",
              "pub_Vivendi Games                             0.000427\n",
              "pub_Acclaim Entertainment                     0.000430\n",
              "plat_small platform                           0.000443\n",
              "pub_Warner Bros. Interactive Entertainment    0.000491\n",
              "plat_XB                                       0.000535\n",
              "dev_Capcom                                    0.000544\n",
              "pub_Disney Interactive Studios                0.000579\n",
              "pub_Atari                                     0.000583\n",
              "dev_Konami                                    0.000605\n",
              "dev_EA Canada                                 0.000679\n",
              "plat_PS3                                      0.000861\n",
              "pub_Eidos Interactive                         0.000882\n",
              "pub_Ubisoft                                   0.000926\n",
              "pub_Namco Bandai Games                        0.000980\n",
              "dev_Ubisoft                                   0.000984\n",
              "pub_505 Games                                 0.000997\n",
              "plat_X360                                     0.001005\n",
              "pub_Konami Digital Entertainment              0.001081\n",
              "plat_2600                                     0.001143\n",
              "pub_Capcom                                    0.001152\n",
              "pub_Sega                                      0.001152\n",
              "Rating_M                                      0.001290\n",
              "pub_THQ                                       0.001305\n",
              "plat_PSP                                      0.001431\n",
              "plat_GC                                       0.001537\n",
              "Genre_Strategy                                0.001755\n",
              "Rating_E10+                                   0.001759\n",
              "Genre_Adventure                               0.002273\n",
              "dev_few developments                          0.002564\n",
              "pub_few publishments                          0.002665\n",
              "plat_GBA                                      0.002806\n",
              "plat_N64                                      0.003034\n",
              "Rating_T                                      0.003270\n",
              "pub_Take-Two Interactive                      0.003547\n",
              "Genre_Fighting                                0.003843\n",
              "pub_Electronic Arts                           0.003876\n",
              "Genre_Puzzle                                  0.004014\n",
              "pub_Sony Computer Entertainment               0.004466\n",
              "Genre_Simulation                              0.005712\n",
              "plat_PS                                       0.005895\n",
              "Rating_NR/na                                  0.005944\n",
              "plat_Wii                                      0.006678\n",
              "plat_SNES                                     0.006779\n",
              "pub_Microsoft Game Studios                    0.007403\n",
              "Genre_Action                                  0.007475\n",
              "pub_Activision                                0.008466\n",
              "plat_PS2                                      0.010521\n",
              "Genre_Misc                                    0.013633\n",
              "Genre_Shooter                                 0.013997\n",
              "plat_GB                                       0.015341\n",
              "plat_NES                                      0.015950\n",
              "plat_DS                                       0.016222\n",
              "Genre_Platform                                0.018765\n",
              "Genre_Racing                                  0.021027\n",
              "plat_PC                                       0.026866\n",
              "Rating_E                                      0.026963\n",
              "Genre_Role-Playing                            0.028267\n",
              "User_Score                                    0.052781\n",
              "Genre_Sports                                  0.063537\n",
              "Critic_Count                                  0.094062\n",
              "pub_Nintendo                                  0.106997\n",
              "Critic_Score                                  0.127399\n",
              "User_Count                                    0.228986\n",
              "dtype: float64"
            ]
          },
          "metadata": {},
          "execution_count": 28
        }
      ]
    },
    {
      "cell_type": "code",
      "metadata": {
        "colab": {
          "base_uri": "https://localhost:8080/"
        },
        "id": "vFeLN0cYWbbX",
        "outputId": "868628a3-538c-4fb7-c2f9-b6f7c37e6de1"
      },
      "source": [
        "print(X_val.shape)\n",
        "print(X_train.shape)"
      ],
      "execution_count": 29,
      "outputs": [
        {
          "output_type": "stream",
          "text": [
            "(12693, 88)\n",
            "(12424, 88)\n"
          ],
          "name": "stdout"
        }
      ]
    },
    {
      "cell_type": "code",
      "metadata": {
        "colab": {
          "base_uri": "https://localhost:8080/",
          "height": 684
        },
        "id": "sub5ZN3PWBUD",
        "outputId": "f61d2a8f-9417-43c9-c335-f674e8703c0c"
      },
      "source": [
        "features = ['pub_Nintendo','User_Count']\n",
        "interact = pdp_interact(model_rf, dataset=X_val,\n",
        "                        model_features = X_val.columns,\n",
        "                        features = features)\n",
        "pdp_interact_plot(interact,plot_type = 'grid',feature_names = features)"
      ],
      "execution_count": 30,
      "outputs": [
        {
          "output_type": "execute_result",
          "data": {
            "text/plain": [
              "(<Figure size 540x684 with 3 Axes>,\n",
              " {'pdp_inter_ax': <matplotlib.axes._subplots.AxesSubplot at 0x7f53f5004d50>,\n",
              "  'title_ax': <matplotlib.axes._subplots.AxesSubplot at 0x7f53f50e4fd0>})"
            ]
          },
          "metadata": {},
          "execution_count": 30
        },
        {
          "output_type": "stream",
          "text": [
            "findfont: Font family ['Arial'] not found. Falling back to DejaVu Sans.\n",
            "findfont: Font family ['Arial'] not found. Falling back to DejaVu Sans.\n",
            "findfont: Font family ['Arial'] not found. Falling back to DejaVu Sans.\n",
            "findfont: Font family ['Arial'] not found. Falling back to DejaVu Sans.\n"
          ],
          "name": "stderr"
        },
        {
          "output_type": "display_data",
          "data": {
            "image/png": "[encoded data removed]",
            "text/plain": [
              "<Figure size 540x684 with 3 Axes>"
            ]
          },
          "metadata": {
            "needs_background": "light"
          }
        }
      ]
    },
    {
      "cell_type": "code",
      "metadata": {
        "colab": {
          "base_uri": "https://localhost:8080/"
        },
        "id": "LfiRZrP6bWjX",
        "outputId": "5f04a812-6310-478d-c695-b8ca39b0cef7"
      },
      "source": [
        "#Summary Plot, Bar: Interaction Values\n",
        "explainer = shap.Explainer(model_rf, X_val)\n",
        "shap_values = explainer(X_val,check_additivity=False)\n",
        "shap.plots.beeswarm(shap_values, max_display=20)"
      ],
      "execution_count": null,
      "outputs": [
        {
          "output_type": "stream",
          "text": [
            " 34%|=======             | 4275/12693 [05:38<11:05]       "
          ],
          "name": "stderr"
        }
      ]
    },
    {
      "cell_type": "code",
      "metadata": {
        "id": "GGiH4Q6isgVr"
      },
      "source": [
        "shap.plots.beeswarm(shap_values, max_display=10,log_scale=True,)"
      ],
      "execution_count": null,
      "outputs": []
    }
  ]
}